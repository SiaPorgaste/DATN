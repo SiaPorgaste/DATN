{
  "nbformat": 4,
  "nbformat_minor": 0,
  "metadata": {
    "colab": {
      "provenance": [],
      "authorship_tag": "ABX9TyNllRfR5JHTWJQHE5sg/Lgl",
      "include_colab_link": true
    },
    "kernelspec": {
      "name": "python3",
      "display_name": "Python 3"
    },
    "language_info": {
      "name": "python"
    }
  },
  "cells": [
    {
      "cell_type": "markdown",
      "metadata": {
        "id": "view-in-github",
        "colab_type": "text"
      },
      "source": [
        "<a href=\"https://colab.research.google.com/github/SiaPorgaste/DATN/blob/main/weather_predict_2.ipynb\" target=\"_parent\"><img src=\"https://colab.research.google.com/assets/colab-badge.svg\" alt=\"Open In Colab\"/></a>"
      ]
    },
    {
      "cell_type": "markdown",
      "source": [
        "# **Setup**"
      ],
      "metadata": {
        "id": "Wn0_JfuKu9a6"
      }
    },
    {
      "cell_type": "code",
      "execution_count": 1,
      "metadata": {
        "colab": {
          "base_uri": "https://localhost:8080/"
        },
        "id": "sReooRh_u5Ux",
        "outputId": "75e022f2-7aa8-47d1-e6c3-3defd7e36670"
      },
      "outputs": [
        {
          "output_type": "stream",
          "name": "stdout",
          "text": [
            "Mounted at /content/drive\n"
          ]
        }
      ],
      "source": [
        "# Mount Google Drive\n",
        "from google.colab import drive\n",
        "drive.mount('/content/drive')"
      ]
    },
    {
      "cell_type": "code",
      "source": [
        "# Change directory to your project folder\n",
        "import os\n",
        "os.chdir('/content/drive/MyDrive/Luan_van/LSTM')"
      ],
      "metadata": {
        "id": "61xwX_YtvMZw"
      },
      "execution_count": 2,
      "outputs": []
    },
    {
      "cell_type": "code",
      "source": [
        "import pandas as pd\n",
        "import numpy as np\n",
        "import seaborn as sns #To help plot\n",
        "import matplotlib.pyplot as plt\n",
        "\n",
        "from sklearn.model_selection import train_test_split\n",
        "from sklearn.preprocessing import MinMaxScaler, StandardScaler  #To scale data\n",
        "from sklearn.metrics import mean_squared_error, mean_absolute_error, r2_score #To evaluate model\n",
        "\n",
        "import tensorflow as tf\n",
        "from tensorflow.keras.models import Sequential\n",
        "from tensorflow.keras.layers import LSTM, Dense, Dropout\n",
        "from tensorflow.keras.callbacks import ModelCheckpoint, EarlyStopping\n",
        "from tensorflow.keras.models import load_model #To load model"
      ],
      "metadata": {
        "id": "Y-z0FBe3vOGV"
      },
      "execution_count": 3,
      "outputs": []
    },
    {
      "cell_type": "markdown",
      "source": [
        "# **Processing Data**"
      ],
      "metadata": {
        "id": "Jdj3_XqivSSz"
      }
    },
    {
      "cell_type": "code",
      "source": [
        "# Load the data\n",
        "data = pd.read_csv('weather.csv')\n",
        "data = data[data['province'] == 'Ho Chi Minh City']\n",
        "data = data.dropna()\n",
        "required_cols = ['max', 'min', 'wind', 'rain', 'humidi', 'cloud', 'pressure']\n",
        "data.index = data.date\n",
        "data = data.drop('date', axis=1)\n",
        "data = data[required_cols].astype(float)\n",
        "data.head()"
      ],
      "metadata": {
        "colab": {
          "base_uri": "https://localhost:8080/",
          "height": 238
        },
        "id": "_CWNiS7WvVDJ",
        "outputId": "a13569af-6303-4da2-914b-fde34efc08ee"
      },
      "execution_count": 25,
      "outputs": [
        {
          "output_type": "execute_result",
          "data": {
            "text/plain": [
              "           max   min  wind  rain  humidi  cloud  pressure\n",
              "date                                                     \n",
              "1/1/2009  29.0  22.0   6.0  18.5    89.0   68.0    1010.0\n",
              "1/1/2010  34.0  24.0   5.0   0.0    59.0   20.0    1010.0\n",
              "1/1/2011  29.0  23.0   4.0   0.2    81.0   42.0    1008.0\n",
              "1/1/2012  32.0  23.0   7.0   1.8    76.0   35.0    1012.0\n",
              "1/1/2013  33.0  24.0   4.0   0.0    69.0   15.0    1010.0"
            ],
            "text/html": [
              "\n",
              "  <div id=\"df-5602f84c-8ea2-4166-9fab-5705c06b6c48\" class=\"colab-df-container\">\n",
              "    <div>\n",
              "<style scoped>\n",
              "    .dataframe tbody tr th:only-of-type {\n",
              "        vertical-align: middle;\n",
              "    }\n",
              "\n",
              "    .dataframe tbody tr th {\n",
              "        vertical-align: top;\n",
              "    }\n",
              "\n",
              "    .dataframe thead th {\n",
              "        text-align: right;\n",
              "    }\n",
              "</style>\n",
              "<table border=\"1\" class=\"dataframe\">\n",
              "  <thead>\n",
              "    <tr style=\"text-align: right;\">\n",
              "      <th></th>\n",
              "      <th>max</th>\n",
              "      <th>min</th>\n",
              "      <th>wind</th>\n",
              "      <th>rain</th>\n",
              "      <th>humidi</th>\n",
              "      <th>cloud</th>\n",
              "      <th>pressure</th>\n",
              "    </tr>\n",
              "    <tr>\n",
              "      <th>date</th>\n",
              "      <th></th>\n",
              "      <th></th>\n",
              "      <th></th>\n",
              "      <th></th>\n",
              "      <th></th>\n",
              "      <th></th>\n",
              "      <th></th>\n",
              "    </tr>\n",
              "  </thead>\n",
              "  <tbody>\n",
              "    <tr>\n",
              "      <th>1/1/2009</th>\n",
              "      <td>29.0</td>\n",
              "      <td>22.0</td>\n",
              "      <td>6.0</td>\n",
              "      <td>18.5</td>\n",
              "      <td>89.0</td>\n",
              "      <td>68.0</td>\n",
              "      <td>1010.0</td>\n",
              "    </tr>\n",
              "    <tr>\n",
              "      <th>1/1/2010</th>\n",
              "      <td>34.0</td>\n",
              "      <td>24.0</td>\n",
              "      <td>5.0</td>\n",
              "      <td>0.0</td>\n",
              "      <td>59.0</td>\n",
              "      <td>20.0</td>\n",
              "      <td>1010.0</td>\n",
              "    </tr>\n",
              "    <tr>\n",
              "      <th>1/1/2011</th>\n",
              "      <td>29.0</td>\n",
              "      <td>23.0</td>\n",
              "      <td>4.0</td>\n",
              "      <td>0.2</td>\n",
              "      <td>81.0</td>\n",
              "      <td>42.0</td>\n",
              "      <td>1008.0</td>\n",
              "    </tr>\n",
              "    <tr>\n",
              "      <th>1/1/2012</th>\n",
              "      <td>32.0</td>\n",
              "      <td>23.0</td>\n",
              "      <td>7.0</td>\n",
              "      <td>1.8</td>\n",
              "      <td>76.0</td>\n",
              "      <td>35.0</td>\n",
              "      <td>1012.0</td>\n",
              "    </tr>\n",
              "    <tr>\n",
              "      <th>1/1/2013</th>\n",
              "      <td>33.0</td>\n",
              "      <td>24.0</td>\n",
              "      <td>4.0</td>\n",
              "      <td>0.0</td>\n",
              "      <td>69.0</td>\n",
              "      <td>15.0</td>\n",
              "      <td>1010.0</td>\n",
              "    </tr>\n",
              "  </tbody>\n",
              "</table>\n",
              "</div>\n",
              "    <div class=\"colab-df-buttons\">\n",
              "\n",
              "  <div class=\"colab-df-container\">\n",
              "    <button class=\"colab-df-convert\" onclick=\"convertToInteractive('df-5602f84c-8ea2-4166-9fab-5705c06b6c48')\"\n",
              "            title=\"Convert this dataframe to an interactive table.\"\n",
              "            style=\"display:none;\">\n",
              "\n",
              "  <svg xmlns=\"http://www.w3.org/2000/svg\" height=\"24px\" viewBox=\"0 -960 960 960\">\n",
              "    <path d=\"M120-120v-720h720v720H120Zm60-500h600v-160H180v160Zm220 220h160v-160H400v160Zm0 220h160v-160H400v160ZM180-400h160v-160H180v160Zm440 0h160v-160H620v160ZM180-180h160v-160H180v160Zm440 0h160v-160H620v160Z\"/>\n",
              "  </svg>\n",
              "    </button>\n",
              "\n",
              "  <style>\n",
              "    .colab-df-container {\n",
              "      display:flex;\n",
              "      gap: 12px;\n",
              "    }\n",
              "\n",
              "    .colab-df-convert {\n",
              "      background-color: #E8F0FE;\n",
              "      border: none;\n",
              "      border-radius: 50%;\n",
              "      cursor: pointer;\n",
              "      display: none;\n",
              "      fill: #1967D2;\n",
              "      height: 32px;\n",
              "      padding: 0 0 0 0;\n",
              "      width: 32px;\n",
              "    }\n",
              "\n",
              "    .colab-df-convert:hover {\n",
              "      background-color: #E2EBFA;\n",
              "      box-shadow: 0px 1px 2px rgba(60, 64, 67, 0.3), 0px 1px 3px 1px rgba(60, 64, 67, 0.15);\n",
              "      fill: #174EA6;\n",
              "    }\n",
              "\n",
              "    .colab-df-buttons div {\n",
              "      margin-bottom: 4px;\n",
              "    }\n",
              "\n",
              "    [theme=dark] .colab-df-convert {\n",
              "      background-color: #3B4455;\n",
              "      fill: #D2E3FC;\n",
              "    }\n",
              "\n",
              "    [theme=dark] .colab-df-convert:hover {\n",
              "      background-color: #434B5C;\n",
              "      box-shadow: 0px 1px 3px 1px rgba(0, 0, 0, 0.15);\n",
              "      filter: drop-shadow(0px 1px 2px rgba(0, 0, 0, 0.3));\n",
              "      fill: #FFFFFF;\n",
              "    }\n",
              "  </style>\n",
              "\n",
              "    <script>\n",
              "      const buttonEl =\n",
              "        document.querySelector('#df-5602f84c-8ea2-4166-9fab-5705c06b6c48 button.colab-df-convert');\n",
              "      buttonEl.style.display =\n",
              "        google.colab.kernel.accessAllowed ? 'block' : 'none';\n",
              "\n",
              "      async function convertToInteractive(key) {\n",
              "        const element = document.querySelector('#df-5602f84c-8ea2-4166-9fab-5705c06b6c48');\n",
              "        const dataTable =\n",
              "          await google.colab.kernel.invokeFunction('convertToInteractive',\n",
              "                                                    [key], {});\n",
              "        if (!dataTable) return;\n",
              "\n",
              "        const docLinkHtml = 'Like what you see? Visit the ' +\n",
              "          '<a target=\"_blank\" href=https://colab.research.google.com/notebooks/data_table.ipynb>data table notebook</a>'\n",
              "          + ' to learn more about interactive tables.';\n",
              "        element.innerHTML = '';\n",
              "        dataTable['output_type'] = 'display_data';\n",
              "        await google.colab.output.renderOutput(dataTable, element);\n",
              "        const docLink = document.createElement('div');\n",
              "        docLink.innerHTML = docLinkHtml;\n",
              "        element.appendChild(docLink);\n",
              "      }\n",
              "    </script>\n",
              "  </div>\n",
              "\n",
              "\n",
              "<div id=\"df-ad0e00f4-17ef-417f-815b-0b70d226d14e\">\n",
              "  <button class=\"colab-df-quickchart\" onclick=\"quickchart('df-ad0e00f4-17ef-417f-815b-0b70d226d14e')\"\n",
              "            title=\"Suggest charts\"\n",
              "            style=\"display:none;\">\n",
              "\n",
              "<svg xmlns=\"http://www.w3.org/2000/svg\" height=\"24px\"viewBox=\"0 0 24 24\"\n",
              "     width=\"24px\">\n",
              "    <g>\n",
              "        <path d=\"M19 3H5c-1.1 0-2 .9-2 2v14c0 1.1.9 2 2 2h14c1.1 0 2-.9 2-2V5c0-1.1-.9-2-2-2zM9 17H7v-7h2v7zm4 0h-2V7h2v10zm4 0h-2v-4h2v4z\"/>\n",
              "    </g>\n",
              "</svg>\n",
              "  </button>\n",
              "\n",
              "<style>\n",
              "  .colab-df-quickchart {\n",
              "      --bg-color: #E8F0FE;\n",
              "      --fill-color: #1967D2;\n",
              "      --hover-bg-color: #E2EBFA;\n",
              "      --hover-fill-color: #174EA6;\n",
              "      --disabled-fill-color: #AAA;\n",
              "      --disabled-bg-color: #DDD;\n",
              "  }\n",
              "\n",
              "  [theme=dark] .colab-df-quickchart {\n",
              "      --bg-color: #3B4455;\n",
              "      --fill-color: #D2E3FC;\n",
              "      --hover-bg-color: #434B5C;\n",
              "      --hover-fill-color: #FFFFFF;\n",
              "      --disabled-bg-color: #3B4455;\n",
              "      --disabled-fill-color: #666;\n",
              "  }\n",
              "\n",
              "  .colab-df-quickchart {\n",
              "    background-color: var(--bg-color);\n",
              "    border: none;\n",
              "    border-radius: 50%;\n",
              "    cursor: pointer;\n",
              "    display: none;\n",
              "    fill: var(--fill-color);\n",
              "    height: 32px;\n",
              "    padding: 0;\n",
              "    width: 32px;\n",
              "  }\n",
              "\n",
              "  .colab-df-quickchart:hover {\n",
              "    background-color: var(--hover-bg-color);\n",
              "    box-shadow: 0 1px 2px rgba(60, 64, 67, 0.3), 0 1px 3px 1px rgba(60, 64, 67, 0.15);\n",
              "    fill: var(--button-hover-fill-color);\n",
              "  }\n",
              "\n",
              "  .colab-df-quickchart-complete:disabled,\n",
              "  .colab-df-quickchart-complete:disabled:hover {\n",
              "    background-color: var(--disabled-bg-color);\n",
              "    fill: var(--disabled-fill-color);\n",
              "    box-shadow: none;\n",
              "  }\n",
              "\n",
              "  .colab-df-spinner {\n",
              "    border: 2px solid var(--fill-color);\n",
              "    border-color: transparent;\n",
              "    border-bottom-color: var(--fill-color);\n",
              "    animation:\n",
              "      spin 1s steps(1) infinite;\n",
              "  }\n",
              "\n",
              "  @keyframes spin {\n",
              "    0% {\n",
              "      border-color: transparent;\n",
              "      border-bottom-color: var(--fill-color);\n",
              "      border-left-color: var(--fill-color);\n",
              "    }\n",
              "    20% {\n",
              "      border-color: transparent;\n",
              "      border-left-color: var(--fill-color);\n",
              "      border-top-color: var(--fill-color);\n",
              "    }\n",
              "    30% {\n",
              "      border-color: transparent;\n",
              "      border-left-color: var(--fill-color);\n",
              "      border-top-color: var(--fill-color);\n",
              "      border-right-color: var(--fill-color);\n",
              "    }\n",
              "    40% {\n",
              "      border-color: transparent;\n",
              "      border-right-color: var(--fill-color);\n",
              "      border-top-color: var(--fill-color);\n",
              "    }\n",
              "    60% {\n",
              "      border-color: transparent;\n",
              "      border-right-color: var(--fill-color);\n",
              "    }\n",
              "    80% {\n",
              "      border-color: transparent;\n",
              "      border-right-color: var(--fill-color);\n",
              "      border-bottom-color: var(--fill-color);\n",
              "    }\n",
              "    90% {\n",
              "      border-color: transparent;\n",
              "      border-bottom-color: var(--fill-color);\n",
              "    }\n",
              "  }\n",
              "</style>\n",
              "\n",
              "  <script>\n",
              "    async function quickchart(key) {\n",
              "      const quickchartButtonEl =\n",
              "        document.querySelector('#' + key + ' button');\n",
              "      quickchartButtonEl.disabled = true;  // To prevent multiple clicks.\n",
              "      quickchartButtonEl.classList.add('colab-df-spinner');\n",
              "      try {\n",
              "        const charts = await google.colab.kernel.invokeFunction(\n",
              "            'suggestCharts', [key], {});\n",
              "      } catch (error) {\n",
              "        console.error('Error during call to suggestCharts:', error);\n",
              "      }\n",
              "      quickchartButtonEl.classList.remove('colab-df-spinner');\n",
              "      quickchartButtonEl.classList.add('colab-df-quickchart-complete');\n",
              "    }\n",
              "    (() => {\n",
              "      let quickchartButtonEl =\n",
              "        document.querySelector('#df-ad0e00f4-17ef-417f-815b-0b70d226d14e button');\n",
              "      quickchartButtonEl.style.display =\n",
              "        google.colab.kernel.accessAllowed ? 'block' : 'none';\n",
              "    })();\n",
              "  </script>\n",
              "</div>\n",
              "\n",
              "    </div>\n",
              "  </div>\n"
            ],
            "application/vnd.google.colaboratory.intrinsic+json": {
              "type": "dataframe",
              "variable_name": "data",
              "summary": "{\n  \"name\": \"data\",\n  \"rows\": 4549,\n  \"fields\": [\n    {\n      \"column\": \"date\",\n      \"properties\": {\n        \"dtype\": \"object\",\n        \"num_unique_values\": 4549,\n        \"samples\": [\n          \"1/18/2012\",\n          \"7/20/2010\",\n          \"1/3/2019\"\n        ],\n        \"semantic_type\": \"\",\n        \"description\": \"\"\n      }\n    },\n    {\n      \"column\": \"max\",\n      \"properties\": {\n        \"dtype\": \"number\",\n        \"std\": 2.5065758156718734,\n        \"min\": 22.0,\n        \"max\": 41.0,\n        \"num_unique_values\": 19,\n        \"samples\": [\n          29.0,\n          35.0,\n          36.0\n        ],\n        \"semantic_type\": \"\",\n        \"description\": \"\"\n      }\n    },\n    {\n      \"column\": \"min\",\n      \"properties\": {\n        \"dtype\": \"number\",\n        \"std\": 1.6541080429353485,\n        \"min\": 16.0,\n        \"max\": 30.0,\n        \"num_unique_values\": 14,\n        \"samples\": [\n          27.0,\n          29.0,\n          22.0\n        ],\n        \"semantic_type\": \"\",\n        \"description\": \"\"\n      }\n    },\n    {\n      \"column\": \"wind\",\n      \"properties\": {\n        \"dtype\": \"number\",\n        \"std\": 3.3994311954200715,\n        \"min\": 2.0,\n        \"max\": 26.0,\n        \"num_unique_values\": 22,\n        \"samples\": [\n          6.0,\n          13.0,\n          15.0\n        ],\n        \"semantic_type\": \"\",\n        \"description\": \"\"\n      }\n    },\n    {\n      \"column\": \"rain\",\n      \"properties\": {\n        \"dtype\": \"number\",\n        \"std\": 11.081434177941402,\n        \"min\": 0.0,\n        \"max\": 253.3,\n        \"num_unique_values\": 426,\n        \"samples\": [\n          55.8,\n          9.9,\n          11.0\n        ],\n        \"semantic_type\": \"\",\n        \"description\": \"\"\n      }\n    },\n    {\n      \"column\": \"humidi\",\n      \"properties\": {\n        \"dtype\": \"number\",\n        \"std\": 10.388731995662955,\n        \"min\": 45.0,\n        \"max\": 97.0,\n        \"num_unique_values\": 53,\n        \"samples\": [\n          83.0,\n          48.0,\n          88.0\n        ],\n        \"semantic_type\": \"\",\n        \"description\": \"\"\n      }\n    },\n    {\n      \"column\": \"cloud\",\n      \"properties\": {\n        \"dtype\": \"number\",\n        \"std\": 18.151818729569136,\n        \"min\": 0.0,\n        \"max\": 99.0,\n        \"num_unique_values\": 97,\n        \"samples\": [\n          88.0,\n          39.0,\n          87.0\n        ],\n        \"semantic_type\": \"\",\n        \"description\": \"\"\n      }\n    },\n    {\n      \"column\": \"pressure\",\n      \"properties\": {\n        \"dtype\": \"number\",\n        \"std\": 2.093198494899906,\n        \"min\": 1002.0,\n        \"max\": 1017.0,\n        \"num_unique_values\": 16,\n        \"samples\": [\n          1010.0,\n          1008.0,\n          1013.0\n        ],\n        \"semantic_type\": \"\",\n        \"description\": \"\"\n      }\n    }\n  ]\n}"
            }
          },
          "metadata": {},
          "execution_count": 25
        }
      ]
    },
    {
      "cell_type": "code",
      "source": [
        "# Normalize the Data\n",
        "scaler = MinMaxScaler(feature_range=(0,1))\n",
        "scaled_data = scaler.fit_transform(data)"
      ],
      "metadata": {
        "id": "Qn-qroTKhqPA"
      },
      "execution_count": 43,
      "outputs": []
    },
    {
      "cell_type": "code",
      "source": [
        "scaled_data[0]"
      ],
      "metadata": {
        "colab": {
          "base_uri": "https://localhost:8080/"
        },
        "id": "L9MBNjVrv7SA",
        "outputId": "14a1d18b-7eaf-419a-af99-aeb84e29ee5c"
      },
      "execution_count": 47,
      "outputs": [
        {
          "output_type": "execute_result",
          "data": {
            "text/plain": [
              "array([0.36842105, 0.42857143, 0.16666667, 0.07303593, 0.84615385,\n",
              "       0.68686869, 0.53333333])"
            ]
          },
          "metadata": {},
          "execution_count": 47
        }
      ]
    },
    {
      "cell_type": "markdown",
      "source": [
        "# **QoL Function**"
      ],
      "metadata": {
        "id": "irZucS_cwX-F"
      }
    },
    {
      "cell_type": "code",
      "source": [
        "# Create Sequences Of Pressure\n",
        "def create_sequences_custom(data, seq_length, col):\n",
        "    X, y = [], []\n",
        "    for i in range(len(data) - seq_length):\n",
        "        X.append(data[i:i + seq_length])\n",
        "        y.append(data[i + seq_length][col])\n",
        "    return np.array(X), np.array(y)"
      ],
      "metadata": {
        "id": "uje06lavwbM4"
      },
      "execution_count": 27,
      "outputs": []
    },
    {
      "cell_type": "markdown",
      "source": [
        "# **Get Model**"
      ],
      "metadata": {
        "id": "BE0hdH9wwguF"
      }
    },
    {
      "cell_type": "code",
      "source": [
        "best_model = tf.keras.models.load_model('best_model.h5')\n",
        "best_model_min = tf.keras.models.load_model('best_model_min.h5')\n",
        "best_model_wind = tf.keras.models.load_model('best_model_wind.h5')\n",
        "best_model_rain = tf.keras.models.load_model('best_model_rain.h5')\n",
        "best_model_humi = tf.keras.models.load_model('best_model_humi.h5')\n",
        "best_model_cloud = tf.keras.models.load_model('best_model_cloud.h5')\n",
        "best_model_pressure = tf.keras.models.load_model('best_model_pressure.h5')"
      ],
      "metadata": {
        "id": "NpY-QXDzwjsJ"
      },
      "execution_count": 28,
      "outputs": []
    },
    {
      "cell_type": "markdown",
      "source": [
        "# **Get Time**"
      ],
      "metadata": {
        "id": "DQf1cQQcMhNA"
      }
    },
    {
      "cell_type": "code",
      "source": [
        "from datetime import datetime\n",
        "import pandas as pd\n",
        "\n",
        "FUTURE_DAYS = 30\n",
        "\n",
        "# Get the current date\n",
        "current_date = pd.Timestamp(datetime.now().date())\n",
        "last_date = data.index[-1]\n",
        "last_date = pd.to_datetime(last_date)\n",
        "print(last_date)"
      ],
      "metadata": {
        "colab": {
          "base_uri": "https://localhost:8080/"
        },
        "id": "TGSYabKNMkBE",
        "outputId": "937942b9-01c5-4c9e-abc6-77bec9026326"
      },
      "execution_count": 29,
      "outputs": [
        {
          "output_type": "stream",
          "name": "stdout",
          "text": [
            "2020-12-19 00:00:00\n"
          ]
        }
      ]
    },
    {
      "cell_type": "code",
      "source": [
        "print(type(last_date))"
      ],
      "metadata": {
        "colab": {
          "base_uri": "https://localhost:8080/"
        },
        "id": "uykiBgLRXNM6",
        "outputId": "0590e9c9-161b-4172-cffe-1b3c0a0bdbdd"
      },
      "execution_count": 30,
      "outputs": [
        {
          "output_type": "stream",
          "name": "stdout",
          "text": [
            "<class 'pandas._libs.tslibs.timestamps.Timestamp'>\n"
          ]
        }
      ]
    },
    {
      "cell_type": "code",
      "source": [
        "# Calculate the number of days between the last date and the current date\n",
        "SEQ_LENGTH = (current_date - last_date).days\n",
        "\n",
        "# Add 30 days\n",
        "SEQ_LENGTH += FUTURE_DAYS\n",
        "\n",
        "# Generate future dates for the next SEQ_LENGTH days\n",
        "future_dates = pd.date_range(start=last_date + pd.Timedelta(days=1), periods=SEQ_LENGTH, freq='D')\n",
        "future_dates_string = future_dates.strftime('%-m/%-d/%Y')\n",
        "\n",
        "# Create a DataFrame with the future dates\n",
        "future_dates_df = pd.DataFrame({'date': future_dates_string})\n",
        "\n",
        "print(future_dates_df)"
      ],
      "metadata": {
        "colab": {
          "base_uri": "https://localhost:8080/"
        },
        "id": "5H7ta4LzRVeL",
        "outputId": "ee443a7a-4f05-407c-d311-78502c851ae2"
      },
      "execution_count": 31,
      "outputs": [
        {
          "output_type": "stream",
          "name": "stdout",
          "text": [
            "            date\n",
            "0     12/20/2020\n",
            "1     12/21/2020\n",
            "2     12/22/2020\n",
            "3     12/23/2020\n",
            "4     12/24/2020\n",
            "...          ...\n",
            "1253   5/26/2024\n",
            "1254   5/27/2024\n",
            "1255   5/28/2024\n",
            "1256   5/29/2024\n",
            "1257   5/30/2024\n",
            "\n",
            "[1258 rows x 1 columns]\n"
          ]
        }
      ]
    },
    {
      "cell_type": "markdown",
      "source": [
        "# **Improved QoL of sequence creation**"
      ],
      "metadata": {
        "id": "E5xwWpevTTlV"
      }
    },
    {
      "cell_type": "code",
      "source": [
        "# Create Sequences Of Pressure\n",
        "def create_sequences_custom(data, seq_length, col):\n",
        "    X, y = [], []\n",
        "    for i in range(len(data) - seq_length):\n",
        "        X.append(data[i:i + seq_length])\n",
        "        y.append(data[i + seq_length][col])\n",
        "    return np.array(X), np.array(y)"
      ],
      "metadata": {
        "id": "xcEUyStnTWFb"
      },
      "execution_count": 32,
      "outputs": []
    },
    {
      "cell_type": "markdown",
      "source": [
        "# **Predict**"
      ],
      "metadata": {
        "id": "Ix8gnTOlhNpE"
      }
    },
    {
      "cell_type": "code",
      "source": [
        "def predict_max_temp(SEQ_LENGTH, scaled_data=scaled_data, best_model=best_model):\n",
        "    # Create sequences for the entire dataset\n",
        "    X, y = create_sequences_custom(scaled_data, SEQ_LENGTH, 0)\n",
        "    # Predict temperatures\n",
        "    print(\"Predicting max temperature...\")\n",
        "    future_predictions = best_model.predict(X[-SEQ_LENGTH:])\n",
        "    future_predictions_copies = np.repeat(future_predictions, 7, axis=-1)\n",
        "    future_predicted_temp = scaler.inverse_transform(future_predictions_copies)[:,0]\n",
        "    return future_predicted_temp"
      ],
      "metadata": {
        "id": "5IX76w5WhQT3"
      },
      "execution_count": 63,
      "outputs": []
    },
    {
      "cell_type": "code",
      "source": [
        "predict_max_temp(14)"
      ],
      "metadata": {
        "colab": {
          "base_uri": "https://localhost:8080/"
        },
        "id": "ZJkwFN7wwB_X",
        "outputId": "60c5a8b5-1d6d-434f-96b2-9f1d375a5fe3"
      },
      "execution_count": 62,
      "outputs": [
        {
          "output_type": "stream",
          "name": "stdout",
          "text": [
            "Predicting max temperature...\n",
            "1/1 [==============================] - 0s 37ms/step\n",
            "[[0.5733602 ]\n",
            " [0.6037749 ]\n",
            " [0.5609629 ]\n",
            " [0.57563394]\n",
            " [0.5787264 ]\n",
            " [0.57532895]\n",
            " [0.6333331 ]\n",
            " [0.5477733 ]\n",
            " [0.54753345]\n",
            " [0.53347564]\n",
            " [0.51622605]\n",
            " [0.5370372 ]\n",
            " [0.60716015]\n",
            " [0.6003993 ]]\n"
          ]
        },
        {
          "output_type": "execute_result",
          "data": {
            "text/plain": [
              "array([32.893845, 33.47172 , 32.658295, 32.937046, 32.9958  , 32.93125 ,\n",
              "       34.03333 , 32.407692, 32.403137, 32.136036, 31.808294, 32.20371 ,\n",
              "       33.536045, 33.40759 ], dtype=float32)"
            ]
          },
          "metadata": {},
          "execution_count": 62
        }
      ]
    },
    {
      "cell_type": "code",
      "source": [
        "def predict_min_temp(SEQ_LENGTH, scaled_data=scaled_data, best_model_min=best_model_min):\n",
        "    # Create sequences for the entire dataset\n",
        "    X, y = create_sequences_custom(scaled_data, SEQ_LENGTH, 1)\n",
        "    # Predict min temperatures\n",
        "    print(\"Predicting min temperature...\")\n",
        "    future_predictions_min = best_model_min.predict(X[-SEQ_LENGTH:])\n",
        "    future_predictions_min_copies = np.repeat(future_predictions_min, 7, axis=-1)\n",
        "    future_predicted_min_temp = scaler.inverse_transform(future_predictions_min_copies)[:,1]\n",
        "    return future_predicted_min_temp"
      ],
      "metadata": {
        "id": "_wwux7KYh98x"
      },
      "execution_count": 34,
      "outputs": []
    },
    {
      "cell_type": "code",
      "source": [
        "predict_min_temp(14)"
      ],
      "metadata": {
        "colab": {
          "base_uri": "https://localhost:8080/"
        },
        "id": "r-5LyIzfwPF9",
        "outputId": "22a0022f-2f8e-49a2-cab7-4ef54bc078ca"
      },
      "execution_count": 64,
      "outputs": [
        {
          "output_type": "stream",
          "name": "stdout",
          "text": [
            "Predicting min temperature...\n",
            "1/1 [==============================] - 2s 2s/step\n"
          ]
        },
        {
          "output_type": "execute_result",
          "data": {
            "text/plain": [
              "array([23.709984, 24.33029 , 23.418762, 23.998804, 23.726255, 23.63004 ,\n",
              "       24.780445, 23.075487, 23.58843 , 23.1191  , 22.919676, 23.384274,\n",
              "       24.450891, 23.979239], dtype=float32)"
            ]
          },
          "metadata": {},
          "execution_count": 64
        }
      ]
    },
    {
      "cell_type": "code",
      "source": [
        "def predict_wind(SEQ_LENGTH, scaled_data=scaled_data, best_model_wind=best_model_wind):\n",
        "    # Create sequences for the entire dataset\n",
        "    X, y = create_sequences_custom(scaled_data, SEQ_LENGTH, 2)\n",
        "    # Predict wind spd\n",
        "    print(\"Predicting wind speed...\")\n",
        "    future_predictions_wind = best_model_wind.predict(X[-SEQ_LENGTH:])\n",
        "    future_predictions_wind_copies = np.repeat(future_predictions_wind, 7, axis=-1)\n",
        "    future_predicted_wind = scaler.inverse_transform(future_predictions_wind_copies)[:,2]\n",
        "    return future_predicted_wind"
      ],
      "metadata": {
        "id": "_7BSXfUdiD2-"
      },
      "execution_count": 35,
      "outputs": []
    },
    {
      "cell_type": "code",
      "source": [
        "predict_wind(14)"
      ],
      "metadata": {
        "colab": {
          "base_uri": "https://localhost:8080/"
        },
        "id": "SUWJ7dXWwZ98",
        "outputId": "03d74293-f706-48a5-8cfb-f2ec83b9b64a"
      },
      "execution_count": 65,
      "outputs": [
        {
          "output_type": "stream",
          "name": "stdout",
          "text": [
            "Predicting wind speed...\n",
            "1/1 [==============================] - 4s 4s/step\n"
          ]
        },
        {
          "output_type": "execute_result",
          "data": {
            "text/plain": [
              "array([15.007101, 15.974679, 14.487368, 15.515438, 14.820433, 14.586952,\n",
              "       16.71778 , 13.907597, 14.697321, 13.831434, 13.507408, 14.311316,\n",
              "       16.09815 , 15.347006], dtype=float32)"
            ]
          },
          "metadata": {},
          "execution_count": 65
        }
      ]
    },
    {
      "cell_type": "code",
      "source": [
        "def predict_rain(SEQ_LENGTH, scaled_data=scaled_data, best_model_rain=best_model_rain):\n",
        "    # Create sequences for the entire dataset\n",
        "    X, y = create_sequences_custom(scaled_data, SEQ_LENGTH, 3)\n",
        "    # Predict rain\n",
        "    print(\"Predicting rain...\")\n",
        "    future_predictions_rain = best_model_rain.predict(X[-SEQ_LENGTH:])\n",
        "    future_predictions_rain_copies = np.repeat(future_predictions_rain, 7, axis=-1)\n",
        "    future_predicted_rain = scaler.inverse_transform(future_predictions_rain_copies)[:,3]\n",
        "    return future_predicted_rain"
      ],
      "metadata": {
        "id": "x0zPDwYgiFPX"
      },
      "execution_count": 36,
      "outputs": []
    },
    {
      "cell_type": "code",
      "source": [
        "predict_rain(14)"
      ],
      "metadata": {
        "colab": {
          "base_uri": "https://localhost:8080/"
        },
        "id": "EFc0DUlfwj_c",
        "outputId": "32f511d9-42b1-401b-e9fc-8dc7452e7899"
      },
      "execution_count": 66,
      "outputs": [
        {
          "output_type": "stream",
          "name": "stdout",
          "text": [
            "Predicting rain...\n",
            "1/1 [==============================] - 3s 3s/step\n"
          ]
        },
        {
          "output_type": "execute_result",
          "data": {
            "text/plain": [
              "array([ 1.0019957, -1.7402431,  2.1995313, -1.3722593, -0.5969806,\n",
              "       -0.4083555, -4.0016756,  3.1578243, -0.9279256,  0.5277531,\n",
              "        1.958811 , -2.5963142, -4.220149 , -0.9629979], dtype=float32)"
            ]
          },
          "metadata": {},
          "execution_count": 66
        }
      ]
    },
    {
      "cell_type": "code",
      "source": [
        "def predict_humi(SEQ_LENGTH, scaled_data=scaled_data, best_model_humi=best_model_humi):\n",
        "    # Create sequences for the entire dataset\n",
        "    X, y = create_sequences_custom(scaled_data, SEQ_LENGTH, 4)\n",
        "    # Predict humidity\n",
        "    print(\"Predicting humidity...\")\n",
        "    future_predictions_humi = best_model_humi.predict(X[-SEQ_LENGTH:])\n",
        "    future_predictions_humi_copies = np.repeat(future_predictions_humi, 7, axis=-1)\n",
        "    future_predicted_humi = scaler.inverse_transform(future_predictions_humi_copies)[:,4]\n",
        "    return future_predicted_humi"
      ],
      "metadata": {
        "id": "KVv3dxnCiGTr"
      },
      "execution_count": 37,
      "outputs": []
    },
    {
      "cell_type": "code",
      "source": [
        "predict_humi(14)"
      ],
      "metadata": {
        "colab": {
          "base_uri": "https://localhost:8080/"
        },
        "id": "HCY2CLYrwoHs",
        "outputId": "9e8dbe2b-57c2-454f-c669-68fc9d219ce5"
      },
      "execution_count": 67,
      "outputs": [
        {
          "output_type": "stream",
          "name": "stdout",
          "text": [
            "Predicting humidity...\n",
            "1/1 [==============================] - 2s 2s/step\n"
          ]
        },
        {
          "output_type": "execute_result",
          "data": {
            "text/plain": [
              "array([68.70022 , 63.505283, 68.79661 , 65.11355 , 70.81103 , 70.32317 ,\n",
              "       66.195755, 75.05157 , 70.23435 , 70.18981 , 75.916855, 61.744247,\n",
              "       62.372227, 64.294334], dtype=float32)"
            ]
          },
          "metadata": {},
          "execution_count": 67
        }
      ]
    },
    {
      "cell_type": "code",
      "source": [
        "def predict_cloud(SEQ_LENGTH, scaled_data=scaled_data, best_model_cloud=best_model_cloud):\n",
        "    # Create sequences for the entire dataset\n",
        "    X, y = create_sequences_custom(scaled_data, SEQ_LENGTH, 5)\n",
        "    # Predict cloud\n",
        "    print(\"Predicting cloud...\")\n",
        "    future_predictions_cloud = best_model_cloud.predict(X[-SEQ_LENGTH:])\n",
        "    future_predictions_cloud_copies = np.repeat(future_predictions_cloud, 7, axis=-1)\n",
        "    future_predicted_cloud = scaler.inverse_transform(future_predictions_cloud_copies)[:,5]\n",
        "    return future_predicted_cloud"
      ],
      "metadata": {
        "id": "-ChhY3OZiHga"
      },
      "execution_count": 38,
      "outputs": []
    },
    {
      "cell_type": "code",
      "source": [
        "predict_cloud(14)"
      ],
      "metadata": {
        "colab": {
          "base_uri": "https://localhost:8080/"
        },
        "id": "HioostH1wvLf",
        "outputId": "075cd32b-fb8b-473e-b49a-a033a1451c25"
      },
      "execution_count": 68,
      "outputs": [
        {
          "output_type": "stream",
          "name": "stdout",
          "text": [
            "Predicting cloud...\n",
            "1/1 [==============================] - 4s 4s/step\n"
          ]
        },
        {
          "output_type": "execute_result",
          "data": {
            "text/plain": [
              "array([39.276012, 21.25648 , 45.477196, 28.440165, 33.970108, 23.98989 ,\n",
              "       18.71803 , 47.99646 , 32.7933  , 41.93625 , 52.72061 , 27.313227,\n",
              "       29.400568, 32.233456], dtype=float32)"
            ]
          },
          "metadata": {},
          "execution_count": 68
        }
      ]
    },
    {
      "cell_type": "code",
      "source": [
        "def predict_pressure(SEQ_LENGTH, scaled_data=scaled_data, best_model_pressure=best_model_pressure):\n",
        "    # Create sequences for the entire dataset\n",
        "    X, y = create_sequences_custom(scaled_data, SEQ_LENGTH, 6)\n",
        "    # Predict pressure\n",
        "    print(\"Predicting pressure...\")\n",
        "    future_predictions_pressure = best_model_pressure.predict(X[-SEQ_LENGTH:])\n",
        "    future_predictions_pressure_copies = np.repeat(future_predictions_pressure, 7, axis=-1)\n",
        "    future_predicted_pressure = scaler.inverse_transform(future_predictions_pressure_copies)[:,6]\n",
        "    return future_predicted_pressure"
      ],
      "metadata": {
        "id": "JC0YscNAiIif"
      },
      "execution_count": 39,
      "outputs": []
    },
    {
      "cell_type": "code",
      "source": [
        "predict_pressure(14)"
      ],
      "metadata": {
        "colab": {
          "base_uri": "https://localhost:8080/"
        },
        "id": "ceghMCchwyu_",
        "outputId": "5dc1f475-03a4-4d03-9353-361265f7b068"
      },
      "execution_count": 69,
      "outputs": [
        {
          "output_type": "stream",
          "name": "stdout",
          "text": [
            "Predicting pressure...\n",
            "1/1 [==============================] - 3s 3s/step\n"
          ]
        },
        {
          "output_type": "execute_result",
          "data": {
            "text/plain": [
              "array([1011.9366 , 1012.512  , 1010.04443, 1013.8941 , 1010.9541 ,\n",
              "       1009.56323, 1009.5672 , 1010.9689 , 1012.11145, 1011.8246 ,\n",
              "       1010.3428 , 1014.1818 , 1011.53766, 1011.1886 ], dtype=float32)"
            ]
          },
          "metadata": {},
          "execution_count": 69
        }
      ]
    },
    {
      "cell_type": "code",
      "source": [
        "from datetime import datetime, timedelta\n",
        "\n",
        "# Get weather data at specific date\n",
        "def get_specific_date(date):\n",
        "  specific_date = pd.to_datetime(date)\n",
        "  last_date = data.index[-1]\n",
        "  last_date = pd.to_datetime(last_date)\n",
        "  # if date is already listed, return that date's weather data\n",
        "  if specific_date <= last_date:\n",
        "    return data.loc[data.index[-1]]\n",
        "  else:\n",
        "    return forecast(specific_date)"
      ],
      "metadata": {
        "id": "Xxh3ndrmQdhN"
      },
      "execution_count": 40,
      "outputs": []
    },
    {
      "cell_type": "code",
      "source": [
        "# Forecast\n",
        "from datetime import datetime, timedelta\n",
        "\n",
        "def forecast(end_date):\n",
        "  print(\"Generating dates...\")\n",
        "  last_date = data.index[-1]\n",
        "  last_date = pd.to_datetime(last_date)\n",
        "  last_date = last_date + timedelta(days=1)\n",
        "  last_date = last_date.strftime('%-m/%-d/%Y')\n",
        "  future_dates = pd.date_range(start=last_date, end=end_date, freq='D')\n",
        "  print(f'future_dates: {future_dates}')\n",
        "\n",
        "  n_steps = (pd.Timestamp(end_date) - pd.Timestamp(last_date)).days + 1\n",
        "  print(f'n_steps: {n_steps}')\n",
        "\n",
        "  future_predicted_temp = predict_max_temp(n_steps)\n",
        "  future_predicted_min_temp = predict_min_temp(n_steps)\n",
        "  future_predicted_wind = predict_wind(n_steps)\n",
        "  future_predicted_rain = predict_rain(n_steps)\n",
        "  future_predicted_humi = predict_humi(n_steps)\n",
        "  future_predicted_cloud = predict_cloud(n_steps)\n",
        "  future_predicted_pressure = predict_pressure(n_steps)\n",
        "\n",
        "  # Create a DataFrame for the predicted temperatures and future dates\n",
        "  predicted_df = pd.DataFrame({'Date': future_dates,\n",
        "                               'max': future_predicted_temp.flatten(),\n",
        "                               'min': future_predicted_min_temp.flatten(),\n",
        "                               'wind': future_predicted_wind.flatten(),\n",
        "                               'rain': future_predicted_rain.flatten(),\n",
        "                                'humidi': future_predicted_humi.flatten(),\n",
        "                               'cloud': future_predicted_cloud.flatten(),\n",
        "                               'pressure': future_predicted_pressure.flatten()})\n",
        "  # Set 'Date' as the index\n",
        "  predicted_df.set_index('Date', inplace=True)\n",
        "  # Append the predicted temperatures to the existing data\n",
        "  data_predicted = pd.concat([data, predicted_df])\n",
        "  # Reset the index\n",
        "  data_predicted.index = pd.to_datetime(data_predicted.index)\n",
        "  # Sort the data by date\n",
        "  data_predicted = data_predicted.sort_index()\n",
        "  data_predicted = data_predicted.rename_axis('date')\n",
        "  # Fix incorrect data\n",
        "  data_predicted.loc[data_predicted['rain'] < 0, 'rain'] = 0.0\n",
        "  return data_predicted"
      ],
      "metadata": {
        "id": "6cixdQkzRsKj"
      },
      "execution_count": 58,
      "outputs": []
    },
    {
      "cell_type": "markdown",
      "source": [
        "# **Testing Ground**"
      ],
      "metadata": {
        "id": "vG3fOJh32SlU"
      }
    },
    {
      "cell_type": "code",
      "source": [
        "test = get_specific_date('2020-01-01')\n",
        "print(test)"
      ],
      "metadata": {
        "colab": {
          "base_uri": "https://localhost:8080/"
        },
        "id": "OM9hWGFe0SDL",
        "outputId": "43470c2f-b728-4359-f8a6-6cd0d9b2957d"
      },
      "execution_count": 72,
      "outputs": [
        {
          "output_type": "stream",
          "name": "stdout",
          "text": [
            "max           31.0\n",
            "min           25.0\n",
            "wind           7.0\n",
            "rain           2.9\n",
            "humidi        71.0\n",
            "cloud         41.0\n",
            "pressure    1010.0\n",
            "Name: 12/19/2020, dtype: float64\n"
          ]
        }
      ]
    },
    {
      "cell_type": "code",
      "source": [
        "test2 = get_specific_date('2021-01-02')\n",
        "print(test2)"
      ],
      "metadata": {
        "colab": {
          "base_uri": "https://localhost:8080/"
        },
        "id": "J6K6JUG8Z9PW",
        "outputId": "73d7e406-5017-4743-c249-b301bd89a27a"
      },
      "execution_count": 74,
      "outputs": [
        {
          "output_type": "stream",
          "name": "stdout",
          "text": [
            "Generating dates...\n",
            "future_dates: DatetimeIndex(['2020-12-20', '2020-12-21', '2020-12-22', '2020-12-23',\n",
            "               '2020-12-24', '2020-12-25', '2020-12-26', '2020-12-27',\n",
            "               '2020-12-28', '2020-12-29', '2020-12-30', '2020-12-31',\n",
            "               '2021-01-01', '2021-01-02'],\n",
            "              dtype='datetime64[ns]', freq='D')\n",
            "n_steps: 14\n",
            "Predicting max temperature...\n",
            "1/1 [==============================] - 0s 53ms/step\n",
            "Predicting min temperature...\n",
            "1/1 [==============================] - 0s 54ms/step\n",
            "Predicting wind speed...\n",
            "1/1 [==============================] - 0s 55ms/step\n",
            "Predicting rain...\n",
            "1/1 [==============================] - 0s 132ms/step\n",
            "Predicting humidity...\n",
            "1/1 [==============================] - 0s 33ms/step\n",
            "Predicting cloud...\n",
            "1/1 [==============================] - 0s 29ms/step\n",
            "Predicting pressure...\n",
            "1/1 [==============================] - 0s 28ms/step\n",
            "             max   min  wind  rain  humidi  cloud  pressure\n",
            "date                                                       \n",
            "2009-01-01  29.0  22.0   6.0  18.5    89.0   68.0    1010.0\n",
            "2009-01-02  28.0  22.0   9.0   1.8    83.0   62.0    1011.0\n",
            "2009-01-03  25.0  22.0   6.0   7.2    87.0   68.0    1012.0\n",
            "2009-01-04  29.0  21.0   4.0   0.5    83.0   40.0    1011.0\n",
            "2009-01-05  31.0  21.0   5.0   0.0    77.0   29.0    1011.0\n",
            "...          ...   ...   ...   ...     ...    ...       ...\n",
            "2021-06-14  33.0  25.0  10.0   2.0    72.0   70.0    1009.0\n",
            "2021-06-15  33.0  26.0  13.0   0.0    70.0   32.0    1008.0\n",
            "2021-06-16  33.0  27.0  11.0   6.9    70.0   60.0    1009.0\n",
            "2021-06-17  33.0  26.0  11.0   8.8    74.0   53.0    1009.0\n",
            "2021-06-18  33.0  27.0   9.0   2.9    71.0   51.0    1009.0\n",
            "\n",
            "[4563 rows x 7 columns]\n"
          ]
        }
      ]
    },
    {
      "cell_type": "code",
      "source": [
        "test2.iloc[-1]"
      ],
      "metadata": {
        "colab": {
          "base_uri": "https://localhost:8080/"
        },
        "id": "-GZWkT490oB0",
        "outputId": "e326cb0b-4b21-4b39-bbba-19629a836784"
      },
      "execution_count": 76,
      "outputs": [
        {
          "output_type": "execute_result",
          "data": {
            "text/plain": [
              "max           33.0\n",
              "min           27.0\n",
              "wind           9.0\n",
              "rain           2.9\n",
              "humidi        71.0\n",
              "cloud         51.0\n",
              "pressure    1009.0\n",
              "Name: 2021-06-18 00:00:00, dtype: float64"
            ]
          },
          "metadata": {},
          "execution_count": 76
        }
      ]
    },
    {
      "cell_type": "code",
      "source": [
        "print(data)"
      ],
      "metadata": {
        "colab": {
          "base_uri": "https://localhost:8080/"
        },
        "id": "SyNJieyLhytd",
        "outputId": "d20c351c-70ba-4257-a7b6-6c9f03294f52"
      },
      "execution_count": 19,
      "outputs": [
        {
          "output_type": "stream",
          "name": "stdout",
          "text": [
            "             max   min  wind  rain  humidi  cloud  pressure\n",
            "date                                                       \n",
            "1/1/2009    29.0  22.0   6.0  18.5    89.0   68.0    1010.0\n",
            "1/1/2010    34.0  24.0   5.0   0.0    59.0   20.0    1010.0\n",
            "1/1/2011    29.0  23.0   4.0   0.2    81.0   42.0    1008.0\n",
            "1/1/2012    32.0  23.0   7.0   1.8    76.0   35.0    1012.0\n",
            "1/1/2013    33.0  24.0   4.0   0.0    69.0   15.0    1010.0\n",
            "...          ...   ...   ...   ...     ...    ...       ...\n",
            "12/19/2016  30.0  23.0   6.0   2.5    84.0   64.0    1011.0\n",
            "12/19/2017  30.0  21.0   9.0   0.0    59.0   50.0    1014.0\n",
            "12/19/2018  34.0  25.0   5.0   0.0    67.0   28.0    1013.0\n",
            "12/19/2019  33.0  25.0   9.0   0.0    66.0   38.0    1012.0\n",
            "12/19/2020  31.0  25.0   7.0   2.9    71.0   41.0    1010.0\n",
            "\n",
            "[4549 rows x 7 columns]\n"
          ]
        }
      ]
    },
    {
      "cell_type": "code",
      "source": [
        "print(type(test))\n",
        "print(type(test2))"
      ],
      "metadata": {
        "colab": {
          "base_uri": "https://localhost:8080/"
        },
        "id": "uoe6yPM21JNH",
        "outputId": "9623e145-425e-43ca-d14a-c95589c05dd8"
      },
      "execution_count": 77,
      "outputs": [
        {
          "output_type": "stream",
          "name": "stdout",
          "text": [
            "<class 'pandas.core.series.Series'>\n",
            "<class 'pandas.core.frame.DataFrame'>\n"
          ]
        }
      ]
    },
    {
      "cell_type": "code",
      "source": [
        "if type(test) == pd.core.series.Series:\n",
        "  print(\"test is a Series\")\n",
        "else:\n",
        "  print(\"test is not a Series\")\n",
        "\n",
        "if type(test2) == pd.core.frame.DataFrame:\n",
        "  print(\"test2 is a DataFrame\")\n",
        "else:\n",
        "  print(\"test2 is not a DataFrame\")"
      ],
      "metadata": {
        "colab": {
          "base_uri": "https://localhost:8080/"
        },
        "id": "94oIQpG71Qyx",
        "outputId": "7c477823-688e-42e3-b32f-4f94b14c95c6"
      },
      "execution_count": 78,
      "outputs": [
        {
          "output_type": "stream",
          "name": "stdout",
          "text": [
            "test is a Series\n",
            "test2 is a DataFrame\n"
          ]
        }
      ]
    },
    {
      "cell_type": "code",
      "source": [
        "data.to_csv('weather2.csv')"
      ],
      "metadata": {
        "id": "ibByEn5D2BRQ"
      },
      "execution_count": 79,
      "outputs": []
    },
    {
      "cell_type": "code",
      "source": [
        "new_data = pd.read_csv('weather2.csv')\n",
        "print(new_data.index)"
      ],
      "metadata": {
        "colab": {
          "base_uri": "https://localhost:8080/"
        },
        "id": "PbnwMGMi2Ip1",
        "outputId": "5ac5054b-9b7f-4b1a-de6a-daf87fa2d39c"
      },
      "execution_count": 81,
      "outputs": [
        {
          "output_type": "stream",
          "name": "stdout",
          "text": [
            "RangeIndex(start=0, stop=4549, step=1)\n"
          ]
        }
      ]
    },
    {
      "cell_type": "markdown",
      "source": [
        "# **Update Data**"
      ],
      "metadata": {
        "id": "RikApeUb47dE"
      }
    },
    {
      "cell_type": "code",
      "source": [
        "def update_data(forecast_output):\n",
        "  if type(forecast_output) == pd.core.series.Series:\n",
        "    return False\n",
        "  elif type(forecast_output) == pd.core.frame.DataFrame:\n",
        "    forecast_output.to_csv('weather.csv')\n",
        "    return True"
      ],
      "metadata": {
        "id": "-Nz-Th5t4_mc"
      },
      "execution_count": 106,
      "outputs": []
    },
    {
      "cell_type": "markdown",
      "source": [
        "# **FWI Fomulate**"
      ],
      "metadata": {
        "id": "vJdStRdAB9A-"
      }
    },
    {
      "cell_type": "code",
      "source": [
        "class InvalidLatitude(Exception):\n",
        "    def __init__(self, value):\n",
        "        self.value = value\n",
        "\n",
        "    def __str__(self):\n",
        "        return repr(self.value) + \" is not a valid Latitude.\""
      ],
      "metadata": {
        "id": "W27Q19vBCAF-"
      },
      "execution_count": 82,
      "outputs": []
    },
    {
      "cell_type": "code",
      "source": [
        "def ffmcCalculator(RH, TEMP, WIND, FFMCPrev, RAIN=0):\n",
        "    Mo = 147.2 * (101 - FFMCPrev) / (59.5 + FFMCPrev)  # /* 1 */\n",
        "\n",
        "    if RAIN > 0.5:\n",
        "        rf = RAIN - 0.5  # /* 2 */\n",
        "\n",
        "        if Mo <= 150:\n",
        "            Mr = Mo + 42.5 * rf * (math.exp(-100 / (251 - Mo))) * (1 - math.exp(-6.93 / rf))  # /* 3a */\n",
        "        else:\n",
        "            Mr = Mo + 42.5 * rf * (math.exp(-100 / (251 - Mo))) * (1 - math.exp(-6.93 / rf)) + \\\n",
        "                 0.0015 * (Mo - 150) ** 2 * rf ** 0.5  # /* 3b */\n",
        "\n",
        "        if Mr > 250:\n",
        "            Mr = 250\n",
        "        Mo = Mr\n",
        "\n",
        "    Ed = 0.942 * RH ** 0.679 + 11 * math.exp((RH - 100) / 10) + 0.18 * (21.1 - TEMP) * (\n",
        "                1 - math.exp(-0.115 * RH))  # /* 4 */\n",
        "\n",
        "    if Mo > Ed:\n",
        "        ko = 0.424 * (1 - (RH / 100) ** 1.7) + 0.0694 * WIND ** 0.5 * (1 - (RH / 100) ** 8)  # /* 6a */\n",
        "        kd = ko * 0.581 * math.exp(0.0365 * TEMP)  # /* 6b */\n",
        "        m = Ed + (Mo - Ed) * 10 ** (-kd)  # /* 8 */\n",
        "    else:\n",
        "        Ew = 0.618 * RH ** 0.753 + 10 * math.exp((RH - 100) / 10) + 0.18 * (21.1 - TEMP) * (\n",
        "                    1 - math.exp(-0.115 * RH))  # /* 5 */\n",
        "\n",
        "        if Mo < Ew:\n",
        "            kl = 0.424 * (1 - ((100 - RH) / 100) ** 1.7) + 0.0694 * WIND ** 0.5 * (\n",
        "                        1 - ((100 - RH) / 100) ** 8)  # /* 7a */\n",
        "            kw = kl * 0.581 * math.exp(0.0365 * TEMP)  # /* 7b */\n",
        "            m = Ew - (Ew - Mo) * 10 ** (-kw)  # /* 9 */\n",
        "        else:\n",
        "            m = Mo\n",
        "\n",
        "    return 59.5 * (250 - m) / (147.2 + m)  # /* 10 */"
      ],
      "metadata": {
        "id": "_ltSpvswCEyB"
      },
      "execution_count": 83,
      "outputs": []
    },
    {
      "cell_type": "code",
      "source": [
        "def dmcCalculator(TEMP, RH, RAIN, DMCPrev, month=datetime.now().month):\n",
        "    if RAIN > 1.5:\n",
        "        re = 0.92 * RAIN - 1.27\n",
        "        Mo = 20 + math.exp(5.6348 - DMCPrev / 43.43)\n",
        "        if DMCPrev <= 33:\n",
        "            B = 100 / (0.5 + 0.3 * DMCPrev)\n",
        "        elif DMCPrev <= 65:\n",
        "            B = 14 - 1.3 * (math.log(DMCPrev))\n",
        "        else:\n",
        "            B = 6.2 * math.log(DMCPrev) - 17.2\n",
        "        Mr = Mo + 1000 * re / (48.77 + B * re)\n",
        "        Pr = 244.72 - 43.43 * math.log(Mr - 20)\n",
        "        if Pr > 0:\n",
        "            DMCPrev = Pr\n",
        "        else:\n",
        "            DMCPrev = 0\n",
        "\n",
        "    if TEMP > -1.1:\n",
        "        Dl = DayLength(month)\n",
        "        K = 1.894 * (TEMP + 1.1) * (100 - RH) * Dl * 0.000001\n",
        "    else:\n",
        "        K = 0\n",
        "\n",
        "    DMC = DMCPrev + 100 * K\n",
        "    return DMC"
      ],
      "metadata": {
        "id": "mpZgJL5GCGkt"
      },
      "execution_count": 84,
      "outputs": []
    },
    {
      "cell_type": "code",
      "source": [
        "def DayLength(MONTH, Latitude=10.762622):\n",
        "    DayLength46N = [6.5, 7.5, 9.0, 12.8, 13.9, 13.9, 12.4, 10.9, 9.4, 8.0, 7.0, 6.0]\n",
        "    DayLength20N = [7.9, 8.4, 8.9, 9.5, 9.9, 10.2, 10.1, 9.7, 9.1, 8.6, 8.1, 7.8]\n",
        "    DayLength20S = [10.1, 9.6, 9.1, 8.5, 8.1, 7.8, 7.9, 8.3, 8.9, 9.4, 9.9, 10.2]\n",
        "    DayLength40S = [11.5, 10.5, 9.2, 7.9, 6.8, 6.2, 6.5, 7.4, 8.7, 10.0, 11.2, 11.8]\n",
        "\n",
        "    retVal = None\n",
        "\n",
        "    if Latitude <= 90 and Latitude > 33:\n",
        "        retVal = DayLength46N[MONTH - 1]\n",
        "    elif Latitude <= 33 and Latitude > 0.0:\n",
        "        retVal = DayLength20N[MONTH - 1]\n",
        "    elif Latitude <= 0.0 and Latitude > -30.0:\n",
        "        retVal = DayLength20S[MONTH - 1]\n",
        "    elif Latitude <= -30.0 and Latitude >= -90.0:\n",
        "        retVal = DayLength40S[MONTH - 1]\n",
        "\n",
        "    if retVal == None:\n",
        "        raise InvalidLatitude(Latitude)\n",
        "\n",
        "    return retVal"
      ],
      "metadata": {
        "id": "EhI4gDLgCI0R"
      },
      "execution_count": 85,
      "outputs": []
    },
    {
      "cell_type": "code",
      "source": [
        "def DryingFactor(Month, Latitude=10.762622):\n",
        "    LfN = [-1.6, -1.6, -1.6, 0.9, 3.8, 5.8, 6.4, 5.0, 2.4, 0.4, -1.6, -1.6]\n",
        "    LfS = [6.4, 5.0, 2.4, 0.4, -1.6, -1.6, -1.6, -1.6, -1.6, 0.9, 3.8, 5.8]\n",
        "\n",
        "    if Latitude > 0:\n",
        "        retVal = LfN[Month]\n",
        "    elif Latitude <= 0.0:\n",
        "        retVal = LfS[Month]\n",
        "\n",
        "    return retVal"
      ],
      "metadata": {
        "id": "5PD-sEPpCKbr"
      },
      "execution_count": 86,
      "outputs": []
    },
    {
      "cell_type": "code",
      "source": [
        "def dcCalculator(TEMP, RAIN, DCPrev, month=datetime.now().month):\n",
        "    if RAIN > 2.8:\n",
        "        rd = 0.83 * RAIN - 1.27\n",
        "        Qo = 800 * math.exp(-DCPrev / 400)\n",
        "        Qr = Qo + 3.937 * rd\n",
        "        Dr = 400 * math.log(800 / Qr)\n",
        "        if Dr > 0:\n",
        "            DCPrev = Dr\n",
        "        else:\n",
        "            DCPrev = 0\n",
        "\n",
        "    Lf = DryingFactor(month - 1)\n",
        "    if TEMP > -2.8:\n",
        "        V = 0.36 * (TEMP + 2.8) + Lf\n",
        "    else:\n",
        "        V = Lf\n",
        "\n",
        "    if V < 0:\n",
        "        V = 0\n",
        "\n",
        "    D = DCPrev + 0.5 * V\n",
        "    return D"
      ],
      "metadata": {
        "id": "Fx4Yy1-7CL9O"
      },
      "execution_count": 87,
      "outputs": []
    },
    {
      "cell_type": "code",
      "source": [
        "def ISIcalculator(windSpd, FFMC):\n",
        "    fWIND = math.exp(0.05039 * windSpd)\n",
        "    m = 147.2 * (101 - FFMC) / (59.5 + FFMC)\n",
        "    fF = 91.9 * math.exp(-0.1386 * m) * (1 + (m) ** 5.31 / 49300000)\n",
        "    ISI = 0.208 * fWIND * fF\n",
        "\n",
        "    return ISI"
      ],
      "metadata": {
        "id": "I5SzSr8eCNwG"
      },
      "execution_count": 88,
      "outputs": []
    },
    {
      "cell_type": "code",
      "source": [
        "def BUIcalculator(DMC, DC):\n",
        "    if (DMC <= 0.4 * DC):\n",
        "        BUI = 0.8 * DMC * DC / (DMC + 0.4 * DC)\n",
        "    else:\n",
        "        BUI = DMC - (1 - 0.8 * DC / (DMC + 0.4 * DC)) * (0.92 + (0.0114 * DMC) ** 1.7)\n",
        "\n",
        "    return BUI"
      ],
      "metadata": {
        "id": "xgpRlMhuCPKR"
      },
      "execution_count": 89,
      "outputs": []
    },
    {
      "cell_type": "code",
      "source": [
        "def FWIcalculator(ISI, BUI):\n",
        "    if BUI <= 80:\n",
        "        fD = 0.626 * (BUI) ** 0.809 + 2\n",
        "    else:\n",
        "        fD = 1000 / (25 + 108.64 * math.exp(-0.023 * BUI))\n",
        "\n",
        "    B = 0.1 * ISI * fD\n",
        "\n",
        "    if B > 1:\n",
        "        S = math.exp(2.72 * (0.434 * math.log(B)) ** 0.647)\n",
        "    else:\n",
        "        S = B\n",
        "\n",
        "    return S"
      ],
      "metadata": {
        "id": "G7uRatv_CQo2"
      },
      "execution_count": 90,
      "outputs": []
    },
    {
      "cell_type": "code",
      "source": [
        "def get_wind_direction(wind_degree):\n",
        "    directions = ['N', 'NNE', 'NE', 'ENE', 'E', 'ESE', 'SE', 'SSE', 'S', 'SSW', 'SW', 'WSW', 'W', 'WNW', 'NW', 'NNW']\n",
        "    index = round(wind_degree / 22.5)\n",
        "    if(index >= 16):\n",
        "        index = index % 16\n",
        "    return directions[index]"
      ],
      "metadata": {
        "id": "mq0hihHmCSFs"
      },
      "execution_count": 91,
      "outputs": []
    },
    {
      "cell_type": "code",
      "source": [
        "def FWItrans(FWI):\n",
        "    if (FWI <= 3.0):\n",
        "        danger = \"Low\"\n",
        "    elif (FWI > 3.0 and FWI <= 10.0):\n",
        "        danger = \"Medium\"\n",
        "    elif (FWI > 10.0 and FWI <= 23.0):\n",
        "        danger = \"High\"\n",
        "    else:\n",
        "        danger = \"Extream\"\n",
        "    return danger"
      ],
      "metadata": {
        "id": "h38YfxKSCT0s"
      },
      "execution_count": 92,
      "outputs": []
    },
    {
      "cell_type": "code",
      "source": [
        "import queue\n",
        "import datetime\n",
        "import math\n",
        "\n",
        "def FWICalculate(humidity,\n",
        "                 temperature,\n",
        "                 windSpd,\n",
        "                 rain):\n",
        "    FFMCQueue = queue.Queue()\n",
        "    dmcQueue = queue.Queue()\n",
        "    dcQueue = queue.Queue()\n",
        "\n",
        "    FFMCQueue.put(85)\n",
        "    curFFMC = ffmcCalculator(humidity, temperature, windSpd,\n",
        "                             FFMCQueue.get(), rain)\n",
        "    print(\"FFMC: \", round(curFFMC, 3))\n",
        "    FFMCQueue.put(curFFMC)\n",
        "\n",
        "    if dmcQueue.empty():\n",
        "        dmcQueue.put(6)\n",
        "    curDMC = dmcCalculator(temperature, humidity,\n",
        "                           rain, dmcQueue.get())\n",
        "    print(\"DMC: \", round(curDMC, 3))\n",
        "    dmcQueue.put(curDMC)\n",
        "\n",
        "    if dcQueue.empty():\n",
        "        dcQueue.put(15)\n",
        "    curDC = dcCalculator(temperature, rain, dcQueue.get())\n",
        "    print(\"DC: \", round(curDC, 3))\n",
        "    dcQueue.put(curDC)\n",
        "\n",
        "    curISI = ISIcalculator(windSpd, curFFMC)\n",
        "    print(\"ISI: \", round(curISI, 3))\n",
        "\n",
        "    curBUI = BUIcalculator(curDMC, curDC)\n",
        "    print(\"BUI: \", round(curBUI, 3))\n",
        "\n",
        "    curFWI = FWIcalculator(curISI, curBUI)\n",
        "    print(\"FWI: \", round(curFWI, 3))\n",
        "\n",
        "    print(\"Chance of fire is:\", FWItrans(curFWI))"
      ],
      "metadata": {
        "id": "ww2q_KS8CVpv"
      },
      "execution_count": 98,
      "outputs": []
    },
    {
      "cell_type": "markdown",
      "source": [
        "# **Using API to fetch weather condition**"
      ],
      "metadata": {
        "id": "hTLe_VqxCmPB"
      }
    },
    {
      "cell_type": "code",
      "source": [
        "import requests\n",
        "import datetime\n",
        "\n",
        "# API Key\n",
        "LAT = 10.762622\n",
        "LON = 106.660172\n",
        "API_KEY = '6c854c10dc3e46c6a1e113713241004'"
      ],
      "metadata": {
        "id": "GeDeRlmGCnl0"
      },
      "execution_count": 95,
      "outputs": []
    },
    {
      "cell_type": "code",
      "source": [
        "import pytz\n",
        "from datetime import datetime\n",
        "import requests\n",
        "\n",
        "def get_real_weather_data(input_date=datetime.now(), api_key=API_KEY,lat=LAT,lon=LON):\n",
        "  # Extract relevant data from the weather_data object\n",
        "  extracted_data = []\n",
        "  current_date = input_date\n",
        "  # Format the current date in the required format (YYYY-MM-DD)\n",
        "  date = current_date.strftime(\"%Y-%m-%d\")\n",
        "  # API endpoint URL for the current date\n",
        "  url = f'https://api.weatherapi.com/v1/history.json?key={api_key}&q={lat},{lon}&dt={date}'\n",
        "  # Make the API request\n",
        "  response = requests.get(url)\n",
        "  # Define the UTC+7 timezone\n",
        "  utc_7 = pytz.timezone('Asia/Bangkok')\n",
        "  # Get the current datetime in UTC\n",
        "  utc_now = datetime.now(pytz.utc)\n",
        "  # Convert UTC datetime to UTC+7\n",
        "  utc_7_now = utc_now.astimezone(utc_7).hour\n",
        "  # Check if the request was successful\n",
        "  if response.status_code == 200:\n",
        "    # Extract the weather data from the response\n",
        "    weather_data = response.json()\n",
        "    maxtemp = weather_data['forecast']['forecastday'][0]['hour'][12]['temp_c']\n",
        "    mintemp = weather_data['forecast']['forecastday'][0]['hour'][23]['temp_c']\n",
        "    wind = weather_data['forecast']['forecastday'][0]['hour'][12]['wind_kph']\n",
        "    wind_d = weather_data['forecast']['forecastday'][0]['hour'][utc_7_now]['wind_dir']\n",
        "    rain = weather_data['forecast']['forecastday'][0]['day']['totalprecip_mm']\n",
        "    humidi = weather_data['forecast']['forecastday'][0]['hour'][12]['humidity']\n",
        "    cloud = weather_data['forecast']['forecastday'][0]['hour'][utc_7_now]['cloud']\n",
        "    pressure = weather_data['forecast']['forecastday'][0]['hour'][utc_7_now]['pressure_mb']\n",
        "    extracted_data.append([maxtemp, mintemp, wind, wind_d, rain, humidi, cloud, pressure, date])\n",
        "    return extracted_data\n",
        "  else:\n",
        "    print('Error occurred while fetching weather data.')\n",
        "    return None"
      ],
      "metadata": {
        "id": "wC03a5ERCqIR"
      },
      "execution_count": 96,
      "outputs": []
    },
    {
      "cell_type": "code",
      "source": [
        "def print_weather_data(extracted_data):\n",
        "  maxtemp = extracted_data[0][0]\n",
        "  mintemp = extracted_data[0][1]\n",
        "  wind = extracted_data[0][2]\n",
        "  wind_d = extracted_data[0][3]\n",
        "  rain = extracted_data[0][4]\n",
        "  humidi = extracted_data[0][5]\n",
        "  cloud = extracted_data[0][6]\n",
        "  pressure = extracted_data[0][7]\n",
        "  date = extracted_data[0][8]\n",
        "  # Print or process the weather data as needed\n",
        "  print(f'Date: {date}')\n",
        "  print(f\"Max Temperature: {maxtemp} °C\")\n",
        "  print(f\"Min Temperature: {mintemp} °C\")\n",
        "  print(f\"Wind Speed: {wind} kph\")\n",
        "  print(f\"Wind Direction: {wind_d}\")\n",
        "  print(f\"Rain: {rain} mm\")\n",
        "  print(f\"Humidity: {humidi} %\")\n",
        "  print(f\"Cloud: {cloud} %\")\n",
        "  print(f\"Pressure: {pressure} mb\")"
      ],
      "metadata": {
        "id": "4Tua9TGwCsAF"
      },
      "execution_count": 97,
      "outputs": []
    },
    {
      "cell_type": "markdown",
      "source": [
        "# **Get FWI**"
      ],
      "metadata": {
        "id": "0VdV4owBQpe-"
      }
    },
    {
      "cell_type": "code",
      "source": [
        "from datetime import datetime\n",
        "\n",
        "def get_fwi(choice=0):\n",
        "  if(choice == 0):\n",
        "    today = get_real_weather_data()\n",
        "    return FWICalculate(today[0][5], today[0][0], today[0][2], today[0][4])\n",
        "  elif(choice == 1):\n",
        "    input_day = input(\"Enter the day you want to check:\")\n",
        "    input_month = input(\"Enter the month you want to check:\")\n",
        "    input_year = input(\"Enter the year you want to check:\")\n",
        "    input_date = input_year + '-' + input_month + '-' + input_day\n",
        "\n",
        "    input_date_weather = get_specific_date(input_date)\n",
        "    if(update_data(input_date_weather) == True):\n",
        "      input_date_weather = input_date_weather.iloc[-1]\n",
        "      global data\n",
        "      data = pd.read_csv('weather.csv')\n",
        "      data.index = data.date\n",
        "      data = data.drop('date', axis=1)\n",
        "      print(\"Data table updated!\")\n",
        "      print(data)\n",
        "\n",
        "    humi = input_date_weather['humidi'].item()\n",
        "    max = input_date_weather['max'].item()\n",
        "    wind = input_date_weather['wind'].item()\n",
        "    rain = input_date_weather['rain'].item()\n",
        "\n",
        "    return FWICalculate(humi, max, wind, rain)"
      ],
      "metadata": {
        "id": "rwyU9OMzQr0F"
      },
      "execution_count": 110,
      "outputs": []
    },
    {
      "cell_type": "code",
      "source": [
        "get_fwi()"
      ],
      "metadata": {
        "colab": {
          "base_uri": "https://localhost:8080/"
        },
        "id": "4yi9mkBGVP2o",
        "outputId": "9c37af2a-010d-4e5e-89cb-cc7078f30eac"
      },
      "execution_count": 104,
      "outputs": [
        {
          "output_type": "stream",
          "name": "stdout",
          "text": [
            "FFMC:  91.292\n",
            "DMC:  9.945\n",
            "DC:  22.56\n",
            "ISI:  10.282\n",
            "BUI:  9.899\n",
            "FWI:  10.325\n",
            "Chance of fire is: High\n"
          ]
        }
      ]
    },
    {
      "cell_type": "code",
      "source": [
        "get_fwi(1)"
      ],
      "metadata": {
        "colab": {
          "base_uri": "https://localhost:8080/"
        },
        "id": "wpzXmLQ9VdTb",
        "outputId": "69ef5438-6405-406a-ed74-0a10678e7f30"
      },
      "execution_count": 111,
      "outputs": [
        {
          "output_type": "stream",
          "name": "stdout",
          "text": [
            "Enter the day you want to check:2\n",
            "Enter the month you want to check:5\n",
            "Enter the year you want to check:2024\n",
            "Generating dates...\n",
            "future_dates: DatetimeIndex(['2020-12-20', '2020-12-21', '2020-12-22', '2020-12-23',\n",
            "               '2020-12-24', '2020-12-25', '2020-12-26', '2020-12-27',\n",
            "               '2020-12-28', '2020-12-29',\n",
            "               ...\n",
            "               '2024-04-23', '2024-04-24', '2024-04-25', '2024-04-26',\n",
            "               '2024-04-27', '2024-04-28', '2024-04-29', '2024-04-30',\n",
            "               '2024-05-01', '2024-05-02'],\n",
            "              dtype='datetime64[ns]', length=1230, freq='D')\n",
            "n_steps: 1230\n",
            "Predicting max temperature...\n",
            "39/39 [==============================] - 32s 818ms/step\n",
            "Predicting min temperature...\n",
            "39/39 [==============================] - 31s 796ms/step\n",
            "Predicting wind speed...\n",
            "39/39 [==============================] - 31s 796ms/step\n",
            "Predicting rain...\n",
            "39/39 [==============================] - 33s 834ms/step\n",
            "Predicting humidity...\n",
            "39/39 [==============================] - 33s 849ms/step\n",
            "Predicting cloud...\n",
            "39/39 [==============================] - 32s 827ms/step\n",
            "Predicting pressure...\n",
            "39/39 [==============================] - 33s 851ms/step\n",
            "Data table updated!\n",
            "                  max        min       wind       rain     humidi      cloud  \\\n",
            "date                                                                           \n",
            "2009-01-01  29.000000  22.000000   6.000000  18.500000  89.000000  68.000000   \n",
            "2009-01-02  28.000000  22.000000   9.000000   1.800000  83.000000  62.000000   \n",
            "2009-01-03  25.000000  22.000000   6.000000   7.200000  87.000000  68.000000   \n",
            "2009-01-04  29.000000  21.000000   4.000000   0.500000  83.000000  40.000000   \n",
            "2009-01-05  31.000000  21.000000   5.000000   0.000000  77.000000  29.000000   \n",
            "...               ...        ...        ...        ...        ...        ...   \n",
            "2024-04-28  32.230492  23.146601  14.032347   0.400625  68.163742  41.934666   \n",
            "2024-04-29  31.853128  22.923079  13.643580   1.106692  74.163033  52.644440   \n",
            "2024-04-30  32.425201  23.519865  14.651962   0.000000  59.347420  26.898664   \n",
            "2024-05-01  33.816818  24.631250  16.481646   0.000000  60.255547  29.457556   \n",
            "2024-05-02  33.634544  24.079546  15.625322   0.000000  62.297615  32.003555   \n",
            "\n",
            "               pressure  \n",
            "date                     \n",
            "2009-01-01  1010.000000  \n",
            "2009-01-02  1011.000000  \n",
            "2009-01-03  1012.000000  \n",
            "2009-01-04  1011.000000  \n",
            "2009-01-05  1011.000000  \n",
            "...                 ...  \n",
            "2024-04-28  1011.814514  \n",
            "2024-04-29  1010.348755  \n",
            "2024-04-30  1014.155396  \n",
            "2024-05-01  1011.590454  \n",
            "2024-05-02  1011.191040  \n",
            "\n",
            "[5779 rows x 7 columns]\n",
            "FFMC:  87.245\n",
            "DMC:  8.356\n",
            "DC:  22.008\n",
            "ISI:  6.348\n",
            "BUI:  8.574\n",
            "FWI:  6.308\n",
            "Chance of fire is: Medium\n"
          ]
        }
      ]
    },
    {
      "cell_type": "code",
      "source": [
        "get_fwi(1)"
      ],
      "metadata": {
        "colab": {
          "base_uri": "https://localhost:8080/"
        },
        "id": "FoZ_AV83X1DT",
        "outputId": "92a3af7c-400c-420b-d6d9-cf10e6eb6d35"
      },
      "execution_count": 114,
      "outputs": [
        {
          "output_type": "stream",
          "name": "stdout",
          "text": [
            "Enter the day you want to check:2\n",
            "Enter the month you want to check:5\n",
            "Enter the year you want to check:2024\n",
            "FFMC:  87.245\n",
            "DMC:  8.356\n",
            "DC:  22.008\n",
            "ISI:  6.348\n",
            "BUI:  8.574\n",
            "FWI:  6.308\n",
            "Chance of fire is: Medium\n"
          ]
        }
      ]
    }
  ]
}